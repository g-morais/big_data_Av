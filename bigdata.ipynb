{
  "nbformat": 4,
  "nbformat_minor": 0,
  "metadata": {
    "colab": {
      "provenance": [],
      "toc_visible": true,
      "authorship_tag": "ABX9TyOGE65Rd5WPJsXwofenRDPV",
      "include_colab_link": true
    },
    "kernelspec": {
      "name": "python3",
      "display_name": "Python 3"
    },
    "language_info": {
      "name": "python"
    }
  },
  "cells": [
    {
      "cell_type": "markdown",
      "metadata": {
        "id": "view-in-github",
        "colab_type": "text"
      },
      "source": [
        "<a href=\"https://colab.research.google.com/github/Wesky05/Big_data/blob/main/bigdata.ipynb\" target=\"_parent\"><img src=\"https://colab.research.google.com/assets/colab-badge.svg\" alt=\"Open In Colab\"/></a>"
      ]
    },
    {
      "cell_type": "code",
      "source": [
        "\n",
        "!pip install gdown pyspark pandas\n"
      ],
      "metadata": {
        "id": "HLKqqZS1mt_r"
      },
      "execution_count": 71,
      "outputs": []
    },
    {
      "cell_type": "code",
      "source": [
        "import gdown\n",
        "\n",
        "url = 'https://drive.google.com/uc?id=1jw0Uoy1OKzCTBMTB_ELknAIn0dYRgoXM'\n",
        "\n",
        "output_path = 'mental.db'\n",
        "\n",
        "gdown.download(url, output_path, quiet=False)"
      ],
      "metadata": {
        "colab": {
          "base_uri": "https://localhost:8080/",
          "height": 110
        },
        "id": "ujzcowK5PVtT",
        "outputId": "975650a6-076c-4dc8-bd51-8dafa7caab57"
      },
      "execution_count": 79,
      "outputs": [
        {
          "output_type": "stream",
          "name": "stderr",
          "text": [
            "Downloading...\n",
            "From: https://drive.google.com/uc?id=1jw0Uoy1OKzCTBMTB_ELknAIn0dYRgoXM\n",
            "To: /content/mental.db\n",
            "100%|██████████| 5.89M/5.89M [00:00<00:00, 138MB/s]\n"
          ]
        },
        {
          "output_type": "execute_result",
          "data": {
            "text/plain": [
              "'mental.db'"
            ],
            "application/vnd.google.colaboratory.intrinsic+json": {
              "type": "string"
            }
          },
          "metadata": {},
          "execution_count": 79
        }
      ]
    },
    {
      "cell_type": "code",
      "source": [
        "import sqlite3\n",
        "\n",
        "connection = sqlite3.connect('mental.db')"
      ],
      "metadata": {
        "id": "nXO7oKnYOC_m"
      },
      "execution_count": 80,
      "outputs": []
    },
    {
      "cell_type": "markdown",
      "source": [
        "### Processamento"
      ],
      "metadata": {
        "id": "MAtAW2-k_u7r"
      }
    },
    {
      "cell_type": "code",
      "source": [
        "import pandas as pd\n",
        "from pyspark.sql import SparkSession\n",
        "\n",
        "\n",
        "spark = SparkSession.builder \\\n",
        "    .appName(\"Leitura de Tabela Answer com PySpark\") \\\n",
        "    .getOrCreate()\n",
        "\n",
        "# Carregar dados da tabela Answer usando Pandas\n",
        "import sqlite3\n",
        "conn = sqlite3.connect('mental.db')\n",
        "query = \"SELECT * FROM Answer\"\n",
        "df_pandas = pd.read_sql_query(query, conn)\n",
        "conn.close()\n",
        "\n",
        "# Converter DataFrame do Pandas para DataFrame do PySpark\n",
        "df_answer = spark.createDataFrame(df_pandas)\n",
        "\n",
        "# Exibir os primeiros registros para verificar\n",
        "df_answer.show()\n"
      ],
      "metadata": {
        "colab": {
          "base_uri": "https://localhost:8080/"
        },
        "id": "_IvB8r8sOSGP",
        "outputId": "74dc40ee-f67f-48c5-9049-72b22133e390"
      },
      "execution_count": 110,
      "outputs": [
        {
          "output_type": "stream",
          "name": "stdout",
          "text": [
            "+----------+--------+------+----------+\n",
            "|AnswerText|SurveyID|UserID|QuestionID|\n",
            "+----------+--------+------+----------+\n",
            "|        37|    2014|     1|         1|\n",
            "|        44|    2014|     2|         1|\n",
            "|        32|    2014|     3|         1|\n",
            "|        31|    2014|     4|         1|\n",
            "|        31|    2014|     5|         1|\n",
            "|        33|    2014|     6|         1|\n",
            "|        35|    2014|     7|         1|\n",
            "|        39|    2014|     8|         1|\n",
            "|        42|    2014|     9|         1|\n",
            "|        23|    2014|    10|         1|\n",
            "|        31|    2014|    11|         1|\n",
            "|        29|    2014|    12|         1|\n",
            "|        42|    2014|    13|         1|\n",
            "|        36|    2014|    14|         1|\n",
            "|        27|    2014|    15|         1|\n",
            "|        29|    2014|    16|         1|\n",
            "|        23|    2014|    17|         1|\n",
            "|        32|    2014|    18|         1|\n",
            "|        46|    2014|    19|         1|\n",
            "|        36|    2014|    20|         1|\n",
            "+----------+--------+------+----------+\n",
            "only showing top 20 rows\n",
            "\n"
          ]
        }
      ]
    },
    {
      "cell_type": "code",
      "source": [
        "import pandas as pd\n",
        "from pyspark.sql import SparkSession\n",
        "\n",
        "# Iniciar uma sessão do Spark\n",
        "spark = SparkSession.builder \\\n",
        "    .appName(\"Leitura de Tabela Question com PySpark\") \\\n",
        "    .getOrCreate()\n",
        "\n",
        "# Carregar dados da tabela Question usando Pandas\n",
        "import sqlite3\n",
        "conn = sqlite3.connect('mental.db')\n",
        "query = \"SELECT * FROM Question\"\n",
        "df_pandas = pd.read_sql_query(query, conn)\n",
        "conn.close()\n",
        "\n",
        "# Converter DataFrame do Pandas para DataFrame do PySpark\n",
        "df_question = spark.createDataFrame(df_pandas)\n",
        "\n",
        "# Exibir os primeiros registros para verificar\n",
        "df_question.show()\n"
      ],
      "metadata": {
        "colab": {
          "base_uri": "https://localhost:8080/"
        },
        "id": "2pOfj1TiO2dK",
        "outputId": "5c07101f-119d-468b-a52e-a7ce8146c000"
      },
      "execution_count": 83,
      "outputs": [
        {
          "output_type": "stream",
          "name": "stdout",
          "text": [
            "+--------------------+----------+\n",
            "|        questiontext|questionid|\n",
            "+--------------------+----------+\n",
            "|   What is your age?|         1|\n",
            "|What is your gender?|         2|\n",
            "|What country do y...|         3|\n",
            "|If you live in th...|         4|\n",
            "|Are you self-empl...|         5|\n",
            "|Do you have a fam...|         6|\n",
            "|Have you ever sou...|         7|\n",
            "|How many employee...|         8|\n",
            "|Is your employer ...|         9|\n",
            "|Does your employe...|        10|\n",
            "|Is your anonymity...|        11|\n",
            "|Would you bring u...|        12|\n",
            "|Is your primary r...|        13|\n",
            "|Do you know the o...|        14|\n",
            "|Has your employer...|        15|\n",
            "|Does your employe...|        16|\n",
            "|If a mental healt...|        17|\n",
            "|Would you feel co...|        18|\n",
            "|Would you feel co...|        19|\n",
            "|Do you have medic...|        20|\n",
            "+--------------------+----------+\n",
            "only showing top 20 rows\n",
            "\n"
          ]
        }
      ]
    },
    {
      "cell_type": "code",
      "source": [
        "import pandas as pd\n",
        "from pyspark.sql import SparkSession\n",
        "\n",
        "# Iniciar uma sessão do Spark\n",
        "spark = SparkSession.builder \\\n",
        "    .appName(\"Leitura de Tabela Survey com PySpark\") \\\n",
        "    .getOrCreate()\n",
        "\n",
        "# Carregar dados da tabela Survey usando Pandas\n",
        "import sqlite3\n",
        "conn = sqlite3.connect('mental.db')\n",
        "query = \"SELECT * FROM Survey\"\n",
        "df_pandas = pd.read_sql_query(query, conn)\n",
        "conn.close()\n",
        "\n",
        "# Converter DataFrame do Pandas para DataFrame do PySpark\n",
        "df_survey = spark.createDataFrame(df_pandas)\n",
        "\n",
        "# Exibir os primeiros registros para verificar\n",
        "df_survey.show()\n"
      ],
      "metadata": {
        "colab": {
          "base_uri": "https://localhost:8080/"
        },
        "id": "H6q3NavYPDuv",
        "outputId": "ad315f36-0bb2-476b-8561-177c1973d1e7"
      },
      "execution_count": 84,
      "outputs": [
        {
          "output_type": "stream",
          "name": "stdout",
          "text": [
            "+--------+--------------------+\n",
            "|SurveyID|         Description|\n",
            "+--------+--------------------+\n",
            "|    2014|mental health sur...|\n",
            "|    2016|mental health sur...|\n",
            "|    2017|mental health sur...|\n",
            "|    2018|mental health sur...|\n",
            "|    2019|mental health sur...|\n",
            "+--------+--------------------+\n",
            "\n"
          ]
        }
      ]
    },
    {
      "cell_type": "markdown",
      "source": [
        "### Análises"
      ],
      "metadata": {
        "id": "NkTzOvy_AJQ7"
      }
    },
    {
      "cell_type": "code",
      "source": [
        "# Importar funções do PySpark SQL\n",
        "from pyspark.sql.functions import col, desc\n",
        "\n",
        "# Contar o número total de respostas\n",
        "total_answers = df_answer.count()\n",
        "print(f\"Total de Respostas: {total_answers}\")\n",
        "\n",
        "# Exibir os primeiros registros\n",
        "print(\"Primeiros registros da tabela Answer:\")\n",
        "df_answer.show(5)\n",
        "\n",
        "# Verificar as colunas presentes no DataFrame\n",
        "print(\"Colunas do DataFrame df_answer:\")\n",
        "df_answer.printSchema()\n",
        "\n",
        "# Analisar as respostas mais frequentes (exemplo)\n",
        "print(\"Top 5 Respostas mais frequentes:\")\n",
        "df_answer.groupBy(\"AnswerText\").count().orderBy(desc(\"count\")).show(5, truncate=False)\n"
      ],
      "metadata": {
        "colab": {
          "base_uri": "https://localhost:8080/"
        },
        "id": "4bIHj_fLRaad",
        "outputId": "94cf0f9c-49f3-41e1-d1c3-e29cc58c05e4"
      },
      "execution_count": 93,
      "outputs": [
        {
          "output_type": "stream",
          "name": "stdout",
          "text": [
            "Total de Respostas: 236898\n",
            "Primeiros registros da tabela Answer:\n",
            "+----------+--------+------+----------+\n",
            "|AnswerText|SurveyID|UserID|QuestionID|\n",
            "+----------+--------+------+----------+\n",
            "|        37|    2014|     1|         1|\n",
            "|        44|    2014|     2|         1|\n",
            "|        32|    2014|     3|         1|\n",
            "|        31|    2014|     4|         1|\n",
            "|        31|    2014|     5|         1|\n",
            "+----------+--------+------+----------+\n",
            "only showing top 5 rows\n",
            "\n",
            "Colunas do DataFrame df_answer:\n",
            "root\n",
            " |-- AnswerText: string (nullable = true)\n",
            " |-- SurveyID: long (nullable = true)\n",
            " |-- UserID: long (nullable = true)\n",
            " |-- QuestionID: long (nullable = true)\n",
            "\n",
            "Top 5 Respostas mais frequentes:\n",
            "+----------+-----+\n",
            "|AnswerText|count|\n",
            "+----------+-----+\n",
            "|-1        |56598|\n",
            "|No        |26899|\n",
            "|Yes       |18232|\n",
            "|1         |15308|\n",
            "|0         |15247|\n",
            "+----------+-----+\n",
            "only showing top 5 rows\n",
            "\n"
          ]
        }
      ]
    },
    {
      "cell_type": "code",
      "source": [
        "\n",
        "from pyspark.sql.functions import col, count, desc\n",
        "\n",
        "# Contagem de respostas por pergunta\n",
        "answer_count_per_question = df_answer.groupBy(\"QuestionID\").agg(count(\"AnswerText\").alias(\"TotalAnswers\")) \\\n",
        "    .orderBy(desc(\"TotalAnswers\"))\n",
        "\n",
        "# Juntar com o DataFrame df_question para mostrar o texto da pergunta\n",
        "answers_and_questions = answer_count_per_question.join(df_question, \"QuestionID\", \"left\") \\\n",
        "    .select(\"QuestionText\", \"TotalAnswers\") \\\n",
        "    .orderBy(desc(\"TotalAnswers\"))\n",
        "\n",
        "# Exibir as perguntas mais respondidas com o número de respostas\n",
        "print(\"Perguntas mais respondidas com o número de respostas:\")\n",
        "answers_and_questions.show(truncate=False)\n"
      ],
      "metadata": {
        "colab": {
          "base_uri": "https://localhost:8080/"
        },
        "id": "veFk9otSR5S0",
        "outputId": "1ee305af-35a4-408b-9b40-0c919d8a5172"
      },
      "execution_count": 125,
      "outputs": [
        {
          "output_type": "stream",
          "name": "stdout",
          "text": [
            "Perguntas mais respondidas com o número de respostas:\n",
            "+-----------------+------------+\n",
            "|QuestionText     |TotalAnswers|\n",
            "+-----------------+------------+\n",
            "|What is your age?|4218        |\n",
            "+-----------------+------------+\n",
            "\n"
          ]
        }
      ]
    },
    {
      "cell_type": "code",
      "source": [
        "# Exibir os primeiros registros\n",
        "print(\"Primeiros registros da tabela Survey:\")\n",
        "df_survey.show(5)\n",
        "\n",
        "# Verificar as colunas presentes no DataFrame\n",
        "print(\"Colunas do DataFrame df_survey:\")\n",
        "df_survey.printSchema()\n",
        "\n",
        "# Contar o número total de pesquisas\n",
        "total_surveys = df_survey.count()\n",
        "print(f\"Total de Pesquisas: {total_surveys}\")\n",
        "\n",
        "# Exemplo de descrição das pesquisas (se houver descrição)\n",
        "print(\"Descrição das Pesquisas:\")\n",
        "df_survey.select(\"Description\").show(truncate=False)\n",
        "\n"
      ],
      "metadata": {
        "colab": {
          "base_uri": "https://localhost:8080/"
        },
        "id": "2RzCs0pTRj6S",
        "outputId": "d8215d8b-895f-4bae-a3b4-53dabd5f3a4d"
      },
      "execution_count": 95,
      "outputs": [
        {
          "output_type": "stream",
          "name": "stdout",
          "text": [
            "Primeiros registros da tabela Survey:\n",
            "+--------+--------------------+\n",
            "|SurveyID|         Description|\n",
            "+--------+--------------------+\n",
            "|    2014|mental health sur...|\n",
            "|    2016|mental health sur...|\n",
            "|    2017|mental health sur...|\n",
            "|    2018|mental health sur...|\n",
            "|    2019|mental health sur...|\n",
            "+--------+--------------------+\n",
            "\n",
            "Colunas do DataFrame df_survey:\n",
            "root\n",
            " |-- SurveyID: long (nullable = true)\n",
            " |-- Description: string (nullable = true)\n",
            "\n",
            "Total de Pesquisas: 5\n",
            "Descrição das Pesquisas:\n",
            "+-----------------------------+\n",
            "|Description                  |\n",
            "+-----------------------------+\n",
            "|mental health survey for 2014|\n",
            "|mental health survey for 2016|\n",
            "|mental health survey for 2017|\n",
            "|mental health survey for 2018|\n",
            "|mental health survey for 2019|\n",
            "+-----------------------------+\n",
            "\n"
          ]
        }
      ]
    },
    {
      "cell_type": "markdown",
      "source": [
        "### **Limpeza de dados**"
      ],
      "metadata": {
        "id": "895CZ0F5ipLr"
      }
    },
    {
      "cell_type": "markdown",
      "source": [
        "Remoção de duplicatas"
      ],
      "metadata": {
        "id": "VvJj3iR3jrjf"
      }
    },
    {
      "cell_type": "code",
      "source": [
        "\n",
        "# Exemplo de remover linhas duplicadas em df_question\n",
        "df_question = df_question.dropDuplicates()\n",
        "print(\"Primeiros registros de df_question:\")\n",
        "df_question.show()"
      ],
      "metadata": {
        "colab": {
          "base_uri": "https://localhost:8080/"
        },
        "id": "-0tZVFfsiUto",
        "outputId": "bb7f2623-590f-4172-fbb1-9747690dafbd"
      },
      "execution_count": 119,
      "outputs": [
        {
          "output_type": "stream",
          "name": "stdout",
          "text": [
            "Primeiros registros de df_question:\n",
            "+--------------------+----------+\n",
            "|        questiontext|questionid|\n",
            "+--------------------+----------+\n",
            "|Do you have previ...|        22|\n",
            "|Would you bring u...|        12|\n",
            "|Overall, how much...|        64|\n",
            "|Is your primary r...|        13|\n",
            "|Are you self-empl...|         5|\n",
            "|Do you have a fam...|         6|\n",
            "|Have you observed...|        56|\n",
            "|Does your employe...|        10|\n",
            "|How many employee...|         8|\n",
            "|Do you believe yo...|        54|\n",
            "|Is your employer ...|         9|\n",
            "|If a mental healt...|        17|\n",
            "|Describe the conv...|        59|\n",
            "|How willing would...|        30|\n",
            "|Have you ever dis...|        60|\n",
            "|If you have a men...|        48|\n",
            "|Has your employer...|        15|\n",
            "|What US state or ...|        51|\n",
            "|Have you ever had...|        62|\n",
            "|Does your employe...|        16|\n",
            "+--------------------+----------+\n",
            "only showing top 20 rows\n",
            "\n"
          ]
        }
      ]
    },
    {
      "cell_type": "code",
      "source": [
        "# Contar o número de respostas por pesquisa\n",
        "answers_per_survey = df_answer.groupBy(\"SurveyID\").agg(count(\"AnswerText\").alias(\"TotalAnswers\"))\n",
        "\n",
        "# Juntar com o DataFrame df_survey para mostrar a descrição da pesquisa\n",
        "answers_and_surveys = answers_per_survey.join(df_survey, \"SurveyID\", \"left\") \\\n",
        "    .select(\"Description\", \"TotalAnswers\")\n",
        "\n",
        "# Exibir as descrições das pesquisas com o número total de respostas\n",
        "print(\"Descrição das pesquisas com o número total de respostas:\")\n",
        "answers_and_surveys.show(truncate=False)\n"
      ],
      "metadata": {
        "colab": {
          "base_uri": "https://localhost:8080/"
        },
        "id": "8ffuRXpiR_Ql",
        "outputId": "4ce09355-abea-4209-fa56-9a99e1110fc3"
      },
      "execution_count": 97,
      "outputs": [
        {
          "output_type": "stream",
          "name": "stdout",
          "text": [
            "Descrição das pesquisas com o número total de respostas:\n",
            "+-----------------------------+------------+\n",
            "|Description                  |TotalAnswers|\n",
            "+-----------------------------+------------+\n",
            "|mental health survey for 2014|32760       |\n",
            "|mental health survey for 2016|88238       |\n",
            "|mental health survey for 2017|57456       |\n",
            "|mental health survey for 2018|31692       |\n",
            "|mental health survey for 2019|26752       |\n",
            "+-----------------------------+------------+\n",
            "\n"
          ]
        }
      ]
    },
    {
      "cell_type": "markdown",
      "source": [
        "Localizar perguntas sem respostas"
      ],
      "metadata": {
        "id": "R9nVeIYUj5Yk"
      }
    },
    {
      "cell_type": "code",
      "source": [
        "\n",
        "unanswered_questions = df_question.join(df_answer, \"QuestionID\", \"leftanti\") \\\n",
        "    .select(\"questiontext\")\n",
        "\n",
        "print(\"Perguntas sem respostas:\")\n",
        "unanswered_questions.show(truncate=False)\n"
      ],
      "metadata": {
        "colab": {
          "base_uri": "https://localhost:8080/"
        },
        "id": "w2D_ix2TS6hP",
        "outputId": "73b53281-ce42-452b-9841-e041b7b5c86c"
      },
      "execution_count": 105,
      "outputs": [
        {
          "output_type": "stream",
          "name": "stdout",
          "text": [
            "Perguntas sem respostas:\n",
            "+------------+\n",
            "|questiontext|\n",
            "+------------+\n",
            "+------------+\n",
            "\n"
          ]
        }
      ]
    },
    {
      "cell_type": "markdown",
      "source": [
        "Renomear e filtrar"
      ],
      "metadata": {
        "id": "EtnTS_9kkDSF"
      }
    },
    {
      "cell_type": "code",
      "source": [
        "# Exemplo de renomear colunas em df_survey\n",
        "df_survey = df_survey.withColumnRenamed(\"Description\", \"SurveyDescription\")\n",
        "# Exemplo de filtrar dados em df_survey\n",
        "df_survey_filtered = df_survey.filter(df_survey[\"SurveyID\"] > 100)\n",
        "print(\"Primeiros registros de df_survey:\")\n",
        "df_survey.show()"
      ],
      "metadata": {
        "colab": {
          "base_uri": "https://localhost:8080/"
        },
        "id": "E0vY5EZoiAAP",
        "outputId": "1fa2ec0c-fef0-4f39-d887-018d45fcb6e0"
      },
      "execution_count": 118,
      "outputs": [
        {
          "output_type": "stream",
          "name": "stdout",
          "text": [
            "Primeiros registros de df_survey:\n",
            "+--------+--------------------+\n",
            "|SurveyID|   SurveyDescription|\n",
            "+--------+--------------------+\n",
            "|    2014|mental health sur...|\n",
            "|    2016|mental health sur...|\n",
            "|    2017|mental health sur...|\n",
            "|    2018|mental health sur...|\n",
            "|    2019|mental health sur...|\n",
            "+--------+--------------------+\n",
            "\n"
          ]
        }
      ]
    },
    {
      "cell_type": "markdown",
      "source": [
        "Contagem de valores nulos e alteração de schema"
      ],
      "metadata": {
        "id": "FhAdYEwpkhBu"
      }
    },
    {
      "cell_type": "code",
      "source": [
        "\n",
        "# Exemplo de contagem de valores nulos em df_answer\n",
        "print(\"Número de linhas nulas em df_answer:\")\n",
        "df_answer.select([count(when(isnull(col), col)).alias(col) for col in df_answer.columns]).show()\n",
        "\n",
        "# Exemplo de ajuste de tipos de dados em df_answer\n",
        "df_answer = df_answer.withColumn(\"SurveyID\", df_answer[\"SurveyID\"].cast(IntegerType()))\n",
        "df_answer.printSchema()\n",
        "\n",
        "print(\"Primeiros registros de df_answer:\")\n",
        "df_answer.show()"
      ],
      "metadata": {
        "colab": {
          "base_uri": "https://localhost:8080/"
        },
        "id": "ck96T7_pheZ9",
        "outputId": "68d9b092-f186-4b9f-f76d-9cb845f48f2a"
      },
      "execution_count": 124,
      "outputs": [
        {
          "output_type": "stream",
          "name": "stdout",
          "text": [
            "Número de linhas nulas em df_answer:\n",
            "+----------+--------+------+----------+\n",
            "|AnswerText|SurveyID|UserID|QuestionID|\n",
            "+----------+--------+------+----------+\n",
            "|         0|       0|     0|         0|\n",
            "+----------+--------+------+----------+\n",
            "\n",
            "root\n",
            " |-- AnswerText: string (nullable = true)\n",
            " |-- SurveyID: integer (nullable = true)\n",
            " |-- UserID: long (nullable = true)\n",
            " |-- QuestionID: long (nullable = true)\n",
            "\n",
            "Primeiros registros de df_answer:\n",
            "+----------+--------+------+----------+\n",
            "|AnswerText|SurveyID|UserID|QuestionID|\n",
            "+----------+--------+------+----------+\n",
            "|        37|    2014|     1|         1|\n",
            "|        44|    2014|     2|         1|\n",
            "|        32|    2014|     3|         1|\n",
            "|        31|    2014|     4|         1|\n",
            "|        31|    2014|     5|         1|\n",
            "|        33|    2014|     6|         1|\n",
            "|        35|    2014|     7|         1|\n",
            "|        39|    2014|     8|         1|\n",
            "|        42|    2014|     9|         1|\n",
            "|        23|    2014|    10|         1|\n",
            "|        31|    2014|    11|         1|\n",
            "|        29|    2014|    12|         1|\n",
            "|        42|    2014|    13|         1|\n",
            "|        36|    2014|    14|         1|\n",
            "|        27|    2014|    15|         1|\n",
            "|        29|    2014|    16|         1|\n",
            "|        23|    2014|    17|         1|\n",
            "|        32|    2014|    18|         1|\n",
            "|        46|    2014|    19|         1|\n",
            "|        36|    2014|    20|         1|\n",
            "+----------+--------+------+----------+\n",
            "only showing top 20 rows\n",
            "\n"
          ]
        }
      ]
    }
  ]
}